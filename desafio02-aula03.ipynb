{
  "nbformat": 4,
  "nbformat_minor": 0,
  "metadata": {
    "colab": {
      "provenance": [],
      "authorship_tag": "ABX9TyPTlJkDY8TuGG/SxArq78PM",
      "include_colab_link": true
    },
    "kernelspec": {
      "name": "python3",
      "display_name": "Python 3"
    },
    "language_info": {
      "name": "python"
    }
  },
  "cells": [
    {
      "cell_type": "markdown",
      "metadata": {
        "id": "view-in-github",
        "colab_type": "text"
      },
      "source": [
        "<a href=\"https://colab.research.google.com/github/Ravine28/imersao_Alura_IA_Google/blob/main/desafio02-aula03.ipynb\" target=\"_parent\"><img src=\"https://colab.research.google.com/assets/colab-badge.svg\" alt=\"Open In Colab\"/></a>"
      ]
    },
    {
      "cell_type": "code",
      "execution_count": null,
      "metadata": {
        "colab": {
          "base_uri": "https://localhost:8080/",
          "height": 488
        },
        "id": "JtEBMKpYY7I3",
        "outputId": "eac0d19e-6487-49e2-ac64-3f8a882833ce"
      },
      "outputs": [
        {
          "output_type": "stream",
          "name": "stdout",
          "text": [
            "## Araras-azuis empoleiradas em um coqueiro\n",
            "\n",
            "A imagem retrata duas belas araras-azuis (Anodorhynchus hyacinthinus) empoleiradas no topo de um tronco de coqueiro, com o céu azul vibrante ao fundo. As araras, as maiores psitacídeos do mundo, são facilmente reconhecíveis por sua plumagem azul cobalto intensa, com anéis amarelos ao redor dos olhos e base do bico. \n",
            "\n",
            "Ambas as araras parecem estar atentas, com suas cabeças erguidas e olhos fixos em algo além do observador. A arara da esquerda encontra-se ligeiramente à frente e acima de sua companheira, sugerindo uma possível relação de dominância ou vigilância. A textura áspera do tronco do coqueiro contrasta com a plumagem lisa e brilhante das araras, criando um jogo de texturas interessante. \n",
            "\n",
            "O fundo azul-claro sem nuvens realça ainda mais as cores vibrantes das araras, tornando-as o ponto focal da imagem. A composição simples e o contraste de cores criam uma fotografia marcante e cativante, capturando a majestade dessas aves icônicas da fauna brasileira.\n",
            "\n",
            "## Descrição da imagem:\n",
            "\n",
            "A imagem mostra uma pessoa, provavelmente uma mulher, segurando um **guaxinim filhote** em seus braços. O guaxinim está comendo um pedaço de **banana** com entusiasmo, segurando-o com suas pequenas patas dianteiras. Seus olhos escuros e brilhantes estão fixos na banana, e seu focinho está ligeiramente enrugado, demonstrando concentração na tarefa de saborear a fruta.\n",
            "\n",
            "A pessoa que segura o guaxinim veste uma blusa roxa e oferece outro pedaço de banana com a mão direita, pronta para alimentar o pequeno animal quando ele terminar o primeiro pedaço. O ambiente ao fundo sugere um local externo, possivelmente um quintal ou jardim, com árvores e caixas de madeira visíveis.\n",
            "\n",
            "**Detalhes interessantes:**\n",
            "\n",
            "* O contraste entre a pelagem cinza e preta do guaxinim e a banana amarela vibrante cria um apelo visual interessante.\n",
            "* A expressão do guaxinim demonstra a satisfação e o prazer que ele está sentindo ao comer a banana.\n",
            "* A imagem captura um momento de ternura e interação entre um animal selvagem e um ser humano. \n",
            "\n",
            "**Possíveis interpretações:**\n",
            "\n",
            "* A cena pode representar o resgate e cuidado de um guaxinim órfão ou ferido.\n",
            "* Pode ilustrar a relação de confiança e afeto que pode se desenvolver entre humanos e animais selvagens.\n",
            "* A imagem também pode servir como um alerta sobre a importância da preservação da fauna e do respeito ao habitat natural dos animais. \n",
            "\n"
          ]
        }
      ],
      "source": [
        "\"\"\"\n",
        "At the command line, only need to run once to install the package via pip:\n",
        "\n",
        "$ pip install google-generativeai\n",
        "\"\"\"\n",
        "\n",
        "from pathlib import Path\n",
        "import hashlib\n",
        "import google.generativeai as genai\n",
        "\n",
        "genai.configure(api_key=\"API KEY\")\n",
        "\n",
        "# Set up the model\n",
        "generation_config = {\n",
        "  \"temperature\": 1,\n",
        "  \"top_p\": 0.95,\n",
        "  \"top_k\": 0,\n",
        "  \"max_output_tokens\": 8192,\n",
        "}\n",
        "\n",
        "safety_settings = [\n",
        "  {\n",
        "    \"category\": \"HARM_CATEGORY_HARASSMENT\",\n",
        "    \"threshold\": \"BLOCK_MEDIUM_AND_ABOVE\"\n",
        "  },\n",
        "  {\n",
        "    \"category\": \"HARM_CATEGORY_HATE_SPEECH\",\n",
        "    \"threshold\": \"BLOCK_MEDIUM_AND_ABOVE\"\n",
        "  },\n",
        "  {\n",
        "    \"category\": \"HARM_CATEGORY_SEXUALLY_EXPLICIT\",\n",
        "    \"threshold\": \"BLOCK_MEDIUM_AND_ABOVE\"\n",
        "  },\n",
        "  {\n",
        "    \"category\": \"HARM_CATEGORY_DANGEROUS_CONTENT\",\n",
        "    \"threshold\": \"BLOCK_MEDIUM_AND_ABOVE\"\n",
        "  },\n",
        "]\n",
        "\n",
        "model = genai.GenerativeModel(model_name=\"gemini-1.5-pro-latest\",\n",
        "                              generation_config=generation_config,\n",
        "                              safety_settings=safety_settings)\n",
        "\n",
        "prompt_parts_1 = [\n",
        "  \"input: \",\n",
        "  genai.upload_file(\"/content/d07f4024-3cf5-4593-af34-6b093a8b5e2c.jpg\"),\n",
        "  \"nomeie e descreva a imagem com riqueza de detalhes em português do Brasil\",\n",
        "  \"output: \",\n",
        "]\n",
        "\n",
        "prompt_parts_2 = [\n",
        "  \"input: \",\n",
        "  genai.upload_file(\"/content/b4a0c4fb-6ed3-43b1-b9a0-70393bb867c7.jpg\"),\n",
        "  \"nomeie e descreva a imagem com riqueza de detalhes em português do Brasil\",\n",
        "  \"output: \",\n",
        "]\n",
        "\n",
        "response_1 = model.generate_content(prompt_parts_1)\n",
        "response_2 = model.generate_content(prompt_parts_2)\n",
        "print(response_1.text)\n",
        "print()\n",
        "print(response_2.text)"
      ]
    }
  ]
}