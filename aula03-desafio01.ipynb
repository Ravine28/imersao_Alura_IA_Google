{
  "nbformat": 4,
  "nbformat_minor": 0,
  "metadata": {
    "colab": {
      "provenance": [],
      "authorship_tag": "ABX9TyM8JP7ayM0Gr2Kgjlmnny+j",
      "include_colab_link": true
    },
    "kernelspec": {
      "name": "python3",
      "display_name": "Python 3"
    },
    "language_info": {
      "name": "python"
    }
  },
  "cells": [
    {
      "cell_type": "markdown",
      "metadata": {
        "id": "view-in-github",
        "colab_type": "text"
      },
      "source": [
        "<a href=\"https://colab.research.google.com/github/Ravine28/imersao_Alura_IA_Google/blob/main/aula03-desafio01.ipynb\" target=\"_parent\"><img src=\"https://colab.research.google.com/assets/colab-badge.svg\" alt=\"Open In Colab\"/></a>"
      ]
    },
    {
      "cell_type": "code",
      "execution_count": null,
      "metadata": {
        "id": "Ns7tB8Nfs9g2"
      },
      "outputs": [],
      "source": [
        "\"\"\"\n",
        "At the command line, only need to run once to install the package via pip:\n",
        "\n",
        "$ pip install google-generativeai\n",
        "\"\"\"\n",
        "\n",
        "from pathlib import Path\n",
        "import hashlib\n",
        "import google.generativeai as genai\n",
        "\n",
        "genai.configure(api_key=\"YOUR_API_KEY\")\n",
        "\n",
        "# Set up the model\n",
        "generation_config = {\n",
        "  \"temperature\": 1,\n",
        "  \"top_p\": 0.95,\n",
        "  \"top_k\": 0,\n",
        "  \"max_output_tokens\": 8192,\n",
        "}\n",
        "\n",
        "safety_settings = [\n",
        "  {\n",
        "    \"category\": \"HARM_CATEGORY_HARASSMENT\",\n",
        "    \"threshold\": \"BLOCK_MEDIUM_AND_ABOVE\"\n",
        "  },\n",
        "  {\n",
        "    \"category\": \"HARM_CATEGORY_HATE_SPEECH\",\n",
        "    \"threshold\": \"BLOCK_MEDIUM_AND_ABOVE\"\n",
        "  },\n",
        "  {\n",
        "    \"category\": \"HARM_CATEGORY_SEXUALLY_EXPLICIT\",\n",
        "    \"threshold\": \"BLOCK_MEDIUM_AND_ABOVE\"\n",
        "  },\n",
        "  {\n",
        "    \"category\": \"HARM_CATEGORY_DANGEROUS_CONTENT\",\n",
        "    \"threshold\": \"BLOCK_MEDIUM_AND_ABOVE\"\n",
        "  },\n",
        "]\n",
        "\n",
        "model = genai.GenerativeModel(model_name=\"gemini-1.5-pro-latest\",\n",
        "                              generation_config=generation_config,\n",
        "                              safety_settings=safety_settings)\n",
        "\n",
        "convo = model.start_chat(history=[\n",
        "  {\n",
        "    \"role\": \"user\",\n",
        "    \"parts\": [genai.upload_file(\"<path>/audio0.mp3\")]\n",
        "  },\n",
        "  {\n",
        "    \"role\": \"user\",\n",
        "    \"parts\": [\"Transcreva o áudio. Identifique o que e porque não faz sentido e finalize fazendo sugestões de correções. Seja engraçado mas coerente.\"]\n",
        "  },\n",
        "  {\n",
        "    \"role\": \"model\",\n",
        "    \"parts\": [\"## Transcrição do Áudio: \\n\\n\\\"Uma caneta é um ótimo objeto para se fazer um lindo corte de cabelo.\\\"\\n\\n## Análise da Insanidade:\\n\\nOk, vamos analisar essa afirmação com a seriedade que ela merece (ou seja, nenhuma!). A ideia de usar uma caneta como instrumento de corte de cabelo é tão absurda quanto usar um peixe para tocar violino. \\n\\n**Por que não faz sentido?**\\n\\n* **Canetas não são afiadas**: A menos que estejamos falando de uma caneta espiã com uma lâmina escondida (o que seria incrível, mas improvável), canetas não têm fio. Elas são feitas para escrever, desenhar, e ocasionalmente, serem roídas por estudantes estressados. Cortar cabelo? Nem pensar. \\n* **Canetas são curtas**: Imagine tentar cortar o cabelo com um objeto do tamanho de um dedo. A menos que você seja um mestre do origami capilar, o resultado seria, na melhor das hipóteses, desigual, e na pior, um desastre total. \\n* **Tinta no cabelo?**: Ninguém quer um cabelo manchado de tinta azul, preta ou, Deus me livre, vermelha. A não ser que você esteja buscando um visual \\\"arte moderna abstrata\\\", mantenha as canetas longe do seu cabelo. \\n\\n## Sugestões de Correção (Sérias e Engraçadas):\\n\\n**Sérias:**\\n\\n* **Tesoura:** A clássica, confiável e feita para o trabalho. \\n* **Máquina de cortar cabelo:** Para os mais modernos ou para um corte estilo \\\"buzz cut\\\".\\n* **Navalhas/lâminas de barbear:** Para os profissionais ou para quem curte um desafio. \\n\\n**Engraçadas:**\\n\\n* **Faca de manteiga:** Porque se a caneta não funciona, por que não tentar algo igualmente sem fio? \\n* **Dentes:** Ei, se funciona para roer as unhas... (brincadeira, por favor, não faça isso).\\n* **Cortador de grama:**  Se você tem MUITO cabelo e pressa. \\n\\n**Lembre-se:** Canetas são para papel, tesouras são para cabelo. Mantenha as coisas simples e evite um desastre capilar!\"]\n",
        "  },\n",
        "])\n",
        "\n",
        "convo.send_message(\"YOUR_USER_INPUT\")\n",
        "print(convo.last.text)"
      ]
    }
  ]
}